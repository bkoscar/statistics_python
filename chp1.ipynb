{
 "cells": [
  {
   "cell_type": "markdown",
   "metadata": {},
   "source": [
    "__Book: Statistics for data scientists. An introduction to probability, statistics and data analysis__.\n",
    "\n",
    "# Chapter 1. A first look of data\n",
    "\n",
    "For data scientists, the most important use of statistics will be making sense of data.\n"
   ]
  },
  {
   "cell_type": "code",
   "execution_count": 4,
   "metadata": {},
   "outputs": [
    {
     "name": "stdout",
     "output_type": "stream",
     "text": [
      "    id       dim1       dim2  rating  gender             age             edu\n",
      "0    1  13.024273  13.543295       5    Male  25 to 34 years     High school\n",
      "1    2  24.165193  22.422261      59  Female  25 to 34 years    Some college\n",
      "2    3  19.711915  22.546749       5  Female  25 to 34 years  4 year college\n",
      "3    4  16.337207  13.466837      10  Female  25 to 34 years  2 year college\n",
      "4    5  26.675745  27.998928      25    Male  25 to 34 years    Some college\n",
      "5    6  12.020748  13.621482      75  Female  35 to 44 years    Some college\n",
      "6    7  27.239526  22.297125      20  Female  18 to 24 years    Some college\n",
      "7    8  15.354012  22.670553      22  Female  18 to 24 years  4 year college\n",
      "8    9  20.862760  13.392131      75    Male  35 to 44 years  4 year college\n",
      "9   10  23.141394  27.995712      61    Male  18 to 24 years  2 year college\n",
      "10  11  13.658864  13.701379      40    Male  25 to 34 years  4 year college\n",
      "11  12  27.917115  22.171373      50    Male  18 to 24 years    Some college\n",
      "12  13  12.534227  22.793642      43  Female  18 to 24 years     High school\n",
      "13  14  25.102683  13.319196       4  Female  45 to 54 years  4 year college\n",
      "14  15  18.567041  27.990354      40  Female  25 to 34 years  2 year college\n",
      "15  16  17.396300  13.782964      25  Female  55 to 64 years    Some college\n",
      "16  17  25.973635  22.045039       1    Male  18 to 24 years    Some college\n",
      "17  18  12.186089  22.915983      60  Female  35 to 44 years     High school\n",
      "18  19  27.653294  13.248051      12  Female  18 to 24 years  4 year college\n",
      "19  20  14.467088  27.982854      83    Male  25 to 34 years    Some college\n",
      "<class 'pandas.core.frame.DataFrame'>\n",
      "RangeIndex: 3628 entries, 0 to 3627\n",
      "Data columns (total 7 columns):\n",
      " #   Column  Non-Null Count  Dtype  \n",
      "---  ------  --------------  -----  \n",
      " 0   id      3628 non-null   int64  \n",
      " 1   dim1    3628 non-null   float64\n",
      " 2   dim2    3628 non-null   float64\n",
      " 3   rating  3628 non-null   int64  \n",
      " 4   gender  3628 non-null   object \n",
      " 5   age     3628 non-null   object \n",
      " 6   edu     3628 non-null   object \n",
      "dtypes: float64(2), int64(2), object(3)\n",
      "memory usage: 198.5+ KB\n",
      "None\n"
     ]
    }
   ],
   "source": [
    "# 1.2.1 Opening the dataset\n",
    "import pandas as pd \n",
    "\n",
    "data = pd.read_csv('face-data.csv')\n",
    "print(data.head(20))\n",
    "print(data.info())\n",
    "print(data.describe())"
   ]
  }
 ],
 "metadata": {
  "kernelspec": {
   "display_name": "Python 3.9.6 64-bit",
   "language": "python",
   "name": "python3"
  },
  "language_info": {
   "codemirror_mode": {
    "name": "ipython",
    "version": 3
   },
   "file_extension": ".py",
   "mimetype": "text/x-python",
   "name": "python",
   "nbconvert_exporter": "python",
   "pygments_lexer": "ipython3",
   "version": "3.9.6"
  },
  "orig_nbformat": 4,
  "vscode": {
   "interpreter": {
    "hash": "31f2aee4e71d21fbe5cf8b01ff0e069b9275f58929596ceb00d14d90e3e16cd6"
   }
  }
 },
 "nbformat": 4,
 "nbformat_minor": 2
}
